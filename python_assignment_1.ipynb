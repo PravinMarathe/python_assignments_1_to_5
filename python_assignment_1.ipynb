{
 "cells": [
  {
   "cell_type": "code",
   "execution_count": 2,
   "metadata": {},
   "outputs": [
    {
     "name": "stdout",
     "output_type": "stream",
     "text": [
      "Current num: 1, Previous num: 0, Total sum: 1\n",
      "Current num: 2, Previous num: 1, Total sum: 3\n",
      "Current num: 3, Previous num: 2, Total sum: 5\n",
      "Current num: 4, Previous num: 3, Total sum: 7\n",
      "Current num: 5, Previous num: 4, Total sum: 9\n",
      "Current num: 6, Previous num: 5, Total sum: 11\n",
      "Current num: 7, Previous num: 6, Total sum: 13\n",
      "Current num: 8, Previous num: 7, Total sum: 15\n",
      "Current num: 9, Previous num: 8, Total sum: 17\n",
      "Current num: 10, Previous num: 9, Total sum: 19\n"
     ]
    }
   ],
   "source": [
    "# Print the sum of the current number and the previous number\n",
    "\n",
    "def current_previous(n):\n",
    "    previous = 0\n",
    "    for i in range(1, n + 1):\n",
    "        current = i\n",
    "        total = previous + current\n",
    "        print(f\"Current num: {current}, Previous num: {previous}, Total sum: {total}\")\n",
    "        previous = current\n",
    "\n",
    "current_previous(10)\n"
   ]
  },
  {
   "cell_type": "code",
   "execution_count": 5,
   "metadata": {},
   "outputs": [
    {
     "name": "stdout",
     "output_type": "stream",
     "text": [
      "Characters at even index: e y d "
     ]
    }
   ],
   "source": [
    "# Print characters from a string that are present at an even index number\n",
    "\n",
    "user_input = input(\"Enter a string: \")\n",
    "\n",
    "print(\"Characters at even index:\", end=\" \")\n",
    "for i in range(0, len(user_input), 2):\n",
    "    print(user_input[i], end=\" \")\n"
   ]
  },
  {
   "cell_type": "code",
   "execution_count": 6,
   "metadata": {},
   "outputs": [
    {
     "name": "stdout",
     "output_type": "stream",
     "text": [
      "tive\n",
      "native\n"
     ]
    }
   ],
   "source": [
    "# Remove first n characters from a string\n",
    "\n",
    "def remove_chars(string, n):\n",
    "    if n < len(string):\n",
    "        return string[n:]\n",
    "    else:\n",
    "        return \"n must be less than the length of the string.\"\n",
    "\n",
    "\n",
    "result1 = remove_chars(\"pynative\", 4)\n",
    "print(result1)  \n",
    "\n",
    "result2 = remove_chars(\"pynative\", 2)\n",
    "print(result2)  \n"
   ]
  },
  {
   "cell_type": "code",
   "execution_count": 1,
   "metadata": {},
   "outputs": [
    {
     "name": "stdout",
     "output_type": "stream",
     "text": [
      "Given list is [1, 2, 3, 4, 5, 1]. and result is: True\n",
      "Given list is [1, 2, 3, 4, 5, 7]. and result is: False\n"
     ]
    }
   ],
   "source": [
    "# Check if the first and last number of a list is the same\n",
    "def check_first_and_last(num):\n",
    "\n",
    "    if num[0] == num[-1]:\n",
    "        return True\n",
    "    else:\n",
    "        return False\n",
    "    \n",
    "lst1 = [1,2,3,4,5,1]\n",
    "lst2 = [1,2,3,4,5,7]\n",
    "\n",
    "result1 = check_first_and_last(lst1)\n",
    "result2 = check_first_and_last(lst2)\n",
    "\n",
    "print(f\"Given list is {lst1}. and result is: {result1}\")\n",
    "print(f\"Given list is {lst2}. and result is: {result2}\")\n",
    "\n",
    "\n",
    "\n"
   ]
  },
  {
   "cell_type": "code",
   "execution_count": 7,
   "metadata": {},
   "outputs": [
    {
     "name": "stdout",
     "output_type": "stream",
     "text": [
      " \n",
      "1  \n",
      "2 2  \n",
      "3 3 3  \n",
      "4 4 4 4  \n",
      "5 5 5 5 5  \n"
     ]
    }
   ],
   "source": [
    "# Print the following pattern\n",
    "\n",
    "num = 6\n",
    "for i in range(num):\n",
    "    for j in range(i):\n",
    "        print(i,end=\" \")\n",
    "    print(\" \")"
   ]
  }
 ],
 "metadata": {
  "kernelspec": {
   "display_name": "Python 3",
   "language": "python",
   "name": "python3"
  },
  "language_info": {
   "codemirror_mode": {
    "name": "ipython",
    "version": 3
   },
   "file_extension": ".py",
   "mimetype": "text/x-python",
   "name": "python",
   "nbconvert_exporter": "python",
   "pygments_lexer": "ipython3",
   "version": "3.10.2"
  }
 },
 "nbformat": 4,
 "nbformat_minor": 2
}
