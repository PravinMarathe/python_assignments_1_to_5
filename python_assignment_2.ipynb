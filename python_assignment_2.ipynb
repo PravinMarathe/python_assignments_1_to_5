{
 "cells": [
  {
   "cell_type": "code",
   "execution_count": 1,
   "metadata": {},
   "outputs": [
    {
     "name": "stdout",
     "output_type": "stream",
     "text": [
      "2 * 1 --> 2\n",
      "2 * 2 --> 4\n",
      "2 * 3 --> 6\n",
      "2 * 4 --> 8\n",
      "2 * 5 --> 10\n",
      "2 * 6 --> 12\n",
      "2 * 7 --> 14\n",
      "2 * 8 --> 16\n",
      "2 * 9 --> 18\n",
      "2 * 10 --> 20\n"
     ]
    }
   ],
   "source": [
    "# Write a program to print multiplication table of a given number\n",
    "\n",
    "num = int(input(\"Enter a number of your choice: \"))\n",
    "for i in range(1,11):\n",
    "    print(f\"{num} * {i} --> {num * i}\")\n"
   ]
  },
  {
   "cell_type": "code",
   "execution_count": null,
   "metadata": {},
   "outputs": [],
   "source": [
    "# Count the total number of digits in a number\n",
    "\n",
    "def count_digits(number):\n",
    "    count = 0\n",
    "    while number > 0:\n",
    "        number //= 10\n",
    "        count += 1\n",
    "    return count\n",
    "\n",
    "user_number = 75869\n",
    "total_digits = count_digits(user_number)\n",
    "print(f\"The number of digits in {user_number} is: {total_digits}\")"
   ]
  },
  {
   "cell_type": "code",
   "execution_count": 6,
   "metadata": {},
   "outputs": [
    {
     "name": "stdout",
     "output_type": "stream",
     "text": [
      "5 4 3 2 1 \n",
      "4 3 2 1 \n",
      "3 2 1 \n",
      "2 1 \n",
      "1 \n"
     ]
    }
   ],
   "source": [
    "# Print the following pattern\n",
    "\n",
    "for i in range(5, 0, -1):\n",
    "    for j in range(i, 0, -1):\n",
    "        print(j, end=\" \")\n",
    "    print()"
   ]
  },
  {
   "cell_type": "code",
   "execution_count": 9,
   "metadata": {},
   "outputs": [
    {
     "name": "stdout",
     "output_type": "stream",
     "text": [
      "-10\n",
      "-9\n",
      "-8\n",
      "-7\n",
      "-6\n",
      "-5\n",
      "-4\n",
      "-3\n",
      "-2\n",
      "-1\n"
     ]
    }
   ],
   "source": [
    "# Display numbers from -10 to -1 using for loop\n",
    "\n",
    "def display_numbers():\n",
    "    for i in range(-10, 0):\n",
    "        print(i)\n",
    "\n",
    "display_numbers()\n"
   ]
  },
  {
   "cell_type": "code",
   "execution_count": 4,
   "metadata": {},
   "outputs": [
    {
     "name": "stdout",
     "output_type": "stream",
     "text": [
      "factorial of given number is: 120\n"
     ]
    }
   ],
   "source": [
    "# Find the factorial of a given number\n",
    "\n",
    "num = int(input(\"Enter a number: \"))\n",
    "if num < 0:\n",
    "    print(\"Enter a positive number\")\n",
    "else:\n",
    "    factorial = 1\n",
    "    for i in range(1, num + 1):\n",
    "        factorial *= i\n",
    "    print(f\"factorial of given number is: {factorial}\")"
   ]
  }
 ],
 "metadata": {
  "kernelspec": {
   "display_name": "Python 3",
   "language": "python",
   "name": "python3"
  },
  "language_info": {
   "codemirror_mode": {
    "name": "ipython",
    "version": 3
   },
   "file_extension": ".py",
   "mimetype": "text/x-python",
   "name": "python",
   "nbconvert_exporter": "python",
   "pygments_lexer": "ipython3",
   "version": "3.10.2"
  }
 },
 "nbformat": 4,
 "nbformat_minor": 2
}
