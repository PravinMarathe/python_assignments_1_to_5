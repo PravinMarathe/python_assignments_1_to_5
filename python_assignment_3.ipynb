{
 "cells": [
  {
   "cell_type": "code",
   "execution_count": 1,
   "metadata": {},
   "outputs": [
    {
     "name": "stdout",
     "output_type": "stream",
     "text": [
      "New array: array('i', [1, 3, 5, 7, 9, 11])\n"
     ]
    }
   ],
   "source": [
    "# Write a Python program to reverse the order of the items in the array.\n",
    "from array import array\n",
    "\n",
    "original_array = array('i', [1, 3, 5, 7, 9])\n",
    "\n",
    "original_array.append(11)\n",
    "\n",
    "print(f\"New array: {original_array}\")"
   ]
  },
  {
   "cell_type": "code",
   "execution_count": 3,
   "metadata": {},
   "outputs": [
    {
     "name": "stdout",
     "output_type": "stream",
     "text": [
      "Number of occurrences of the number 3 in the said array: 3\n"
     ]
    }
   ],
   "source": [
    "# Write a Python program to get the number of occurrences of a specified element in an array.\n",
    "from array import array\n",
    "\n",
    "original_array = array('i', [1, 3, 5, 3, 7, 9, 3])\n",
    "\n",
    "occurrence = original_array.count(3)\n",
    "\n",
    "print(f\"Number of occurrences of the number 3 in the said array: {occurrence}\")\n",
    "\n"
   ]
  },
  {
   "cell_type": "code",
   "execution_count": 5,
   "metadata": {},
   "outputs": [
    {
     "name": "stdout",
     "output_type": "stream",
     "text": [
      "New array: array('i', [1, 4, 3, 5, 7, 9])\n"
     ]
    }
   ],
   "source": [
    "# Write a Python program to insert a newly created item before the second element in an existing array.\n",
    "\n",
    "from array import array\n",
    "original_array = array('i', [1, 3, 5, 7, 9])\n",
    "\n",
    "original_array.insert(1, 4)\n",
    "\n",
    "print(f\"New array: {original_array}\")"
   ]
  },
  {
   "cell_type": "code",
   "execution_count": 8,
   "metadata": {},
   "outputs": [
    {
     "name": "stdout",
     "output_type": "stream",
     "text": [
      "New array: array('i', [1, 3, 7, 9])\n"
     ]
    }
   ],
   "source": [
    "# Write a Python program to remove a specified item using the index of an array. Sample Output:\n",
    "\n",
    "from array import array\n",
    "original_array =  array('i', [1, 3, 5, 7, 9])\n",
    "\n",
    "original_array.remove(5)\n",
    "\n",
    "print(f\"New array: {original_array}\")"
   ]
  },
  {
   "cell_type": "code",
   "execution_count": 9,
   "metadata": {},
   "outputs": [
    {
     "name": "stdout",
     "output_type": "stream",
     "text": [
      "4\n",
      "-1\n",
      "1\n"
     ]
    }
   ],
   "source": [
    "# Write a Python program to find the first duplicate element in a given array of integers. Return -1 if there are no such elements.\n",
    "\n",
    "def find_first_duplicate(arr):\n",
    "    arr.sort()\n",
    "    for i in range(len(arr) - 1):\n",
    "        if arr[i] == arr[i + 1]:\n",
    "            return arr[i]\n",
    "    return -1\n",
    "\n",
    "\n",
    "print(find_first_duplicate([1, 2, 3, 4, 4, 5])) \n",
    "print(find_first_duplicate([1, 2, 3, 4, 5]))     \n",
    "print(find_first_duplicate([1, 1, 2, 3, 4, 5])) \n"
   ]
  }
 ],
 "metadata": {
  "kernelspec": {
   "display_name": "Python 3",
   "language": "python",
   "name": "python3"
  },
  "language_info": {
   "codemirror_mode": {
    "name": "ipython",
    "version": 3
   },
   "file_extension": ".py",
   "mimetype": "text/x-python",
   "name": "python",
   "nbconvert_exporter": "python",
   "pygments_lexer": "ipython3",
   "version": "3.10.2"
  }
 },
 "nbformat": 4,
 "nbformat_minor": 2
}
