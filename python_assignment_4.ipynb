{
 "cells": [
  {
   "cell_type": "code",
   "execution_count": 4,
   "metadata": {},
   "outputs": [
    {
     "name": "stdout",
     "output_type": "stream",
     "text": [
      "Name: Pravin Marathe\n",
      "Age: 23\n"
     ]
    }
   ],
   "source": [
    "# Write a program to create a function that takes two arguments, name and age, and print their value.\n",
    "\n",
    "def age_and_name(name, age):\n",
    "    print(\"Name:\", name)\n",
    "    print(\"Age:\", age)\n",
    "\n",
    "age_and_name(\"Pravin Marathe\", 23)"
   ]
  },
  {
   "cell_type": "code",
   "execution_count": 6,
   "metadata": {},
   "outputs": [
    {
     "name": "stdout",
     "output_type": "stream",
     "text": [
      "Name: Pravin\n",
      "Salary: 9000\n",
      "Name: Krishna\n",
      "Salary: 8000\n"
     ]
    }
   ],
   "source": [
    "# Create a function with a default argument\n",
    "\n",
    "def show_employee(name, salary = 9000):\n",
    "    print(\"Name:\", name)\n",
    "    print(\"Salary:\", salary)\n",
    "\n",
    "show_employee(\"Pravin\")\n",
    "show_employee(\"Krishna\",8000)"
   ]
  },
  {
   "cell_type": "code",
   "execution_count": 8,
   "metadata": {},
   "outputs": [
    {
     "name": "stdout",
     "output_type": "stream",
     "text": [
      "Result: 15\n"
     ]
    }
   ],
   "source": [
    "# Create an inner function to calculate the addition in the following way\n",
    "\n",
    "def outer_fun(a, b):\n",
    "    def inner_fun():\n",
    "        return a + b\n",
    "    add = inner_fun() + 5\n",
    "    return add\n",
    "result = outer_fun(4, 6)\n",
    "print(f\"Result: {result}\")"
   ]
  },
  {
   "cell_type": "code",
   "execution_count": 9,
   "metadata": {},
   "outputs": [
    {
     "name": "stdout",
     "output_type": "stream",
     "text": [
      "Argument: 20\n",
      "Argument: 40\n",
      "Argument: 60\n",
      "Argument: 80\n",
      "Argument: 100\n"
     ]
    }
   ],
   "source": [
    "# Create a function with variable length of arguments. Write a program to create function func1() to accept a variable length of arguments and print the\n",
    "\n",
    "def func1(*args):\n",
    "    for arg in args:\n",
    "        print(\"Argument:\", arg)\n",
    "\n",
    "func1(20, 40, 60)\n",
    "\n",
    "func1(80, 100)\n"
   ]
  },
  {
   "cell_type": "code",
   "execution_count": 10,
   "metadata": {},
   "outputs": [
    {
     "name": "stdout",
     "output_type": "stream",
     "text": [
      "Sum of numbers from 0 to 10: 55\n"
     ]
    }
   ],
   "source": [
    "# Create a recursive function\n",
    "\n",
    "def recursive_sum(n):\n",
    "    if n == 0:\n",
    "        return 0\n",
    "    else:\n",
    "        return n + recursive_sum(n - 1)\n",
    "\n",
    "result = recursive_sum(10)\n",
    "print(\"Sum of numbers from 0 to 10:\", result)\n"
   ]
  }
 ],
 "metadata": {
  "kernelspec": {
   "display_name": "Python 3",
   "language": "python",
   "name": "python3"
  },
  "language_info": {
   "codemirror_mode": {
    "name": "ipython",
    "version": 3
   },
   "file_extension": ".py",
   "mimetype": "text/x-python",
   "name": "python",
   "nbconvert_exporter": "python",
   "pygments_lexer": "ipython3",
   "version": "3.10.2"
  }
 },
 "nbformat": 4,
 "nbformat_minor": 2
}
