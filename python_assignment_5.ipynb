{
 "cells": [
  {
   "cell_type": "code",
   "execution_count": 1,
   "metadata": {},
   "outputs": [
    {
     "name": "stdout",
     "output_type": "stream",
     "text": [
      "Final list: [6, 12, 18, 4, 12, 20, 28]\n"
     ]
    }
   ],
   "source": [
    "# Create a list by picking an odd-index items from the first list and even index items from the second\n",
    "\n",
    "l1 = [3, 6, 9, 12, 15, 18, 21]\n",
    "l2 = [4, 8, 12, 16, 20, 24, 28]\n",
    "\n",
    "odd_index = l1[1::2]  \n",
    "even_index = l2[::2]  \n",
    "\n",
    "final_list = odd_index + even_index\n",
    "print(f\"Final list: {final_list}\")"
   ]
  },
  {
   "cell_type": "code",
   "execution_count": 2,
   "metadata": {},
   "outputs": [
    {
     "name": "stdout",
     "output_type": "stream",
     "text": [
      "Chunk 1 [11, 45, 8]\n",
      "After reversing it [8, 45, 11]\n",
      "\n",
      "Chunk 2 [23, 14, 12]\n",
      "After reversing it [12, 14, 23]\n",
      "\n",
      "Chunk 3 [78, 45, 89]\n",
      "After reversing it [89, 45, 78]\n",
      "\n"
     ]
    }
   ],
   "source": [
    "# Slice list into 3 equal chunks and reverse each chunk\n",
    "\n",
    "sample_lst = [11, 45, 8, 23, 14, 12, 78, 45, 89]\n",
    "\n",
    "chunks = len(sample_lst)// 3\n",
    "\n",
    "current_chunk = []\n",
    "\n",
    "\n",
    "for i, num in enumerate(sample_lst):\n",
    "    current_chunk.append(num)\n",
    "    \n",
    "    if len(current_chunk) == chunks or i == len(sample_lst) - 1:\n",
    "    \n",
    "        print(f\"Chunk {i // chunks + 1} {current_chunk}\")\n",
    "        \n",
    "        \n",
    "        reversed_chunk = current_chunk[::-1]\n",
    "        print(f\"After reversing it {reversed_chunk}\\n\")\n",
    "        \n",
    "        \n",
    "        current_chunk = []"
   ]
  },
  {
   "cell_type": "code",
   "execution_count": 13,
   "metadata": {},
   "outputs": [
    {
     "name": "stdout",
     "output_type": "stream",
     "text": [
      "Result is {(7, 49), (2, 4), (4, 16), (8, 64), (6, 36), (3, 9), (5, 25)}\n"
     ]
    }
   ],
   "source": [
    "# Create a Python set such that it shows the element from both lists in a pair\n",
    "\n",
    "first_list = [2, 3, 4, 5, 6, 7, 8]\n",
    "second_list = [4, 9, 16, 25, 36, 49, 64]\n",
    "\n",
    "\n",
    "pairs = zip(first_list, second_list)\n",
    "\n",
    "\n",
    "result_set = set(pairs)\n",
    "\n",
    "print(\"Result is\", result_set)\n"
   ]
  },
  {
   "cell_type": "code",
   "execution_count": 14,
   "metadata": {},
   "outputs": [
    {
     "name": "stdout",
     "output_type": "stream",
     "text": [
      "After removing unwanted elements from list [47, 69, 76, 97]\n"
     ]
    }
   ],
   "source": [
    "# Iterate a given list and check if a given element exists as a key’s value in a dictionary. If not, delete it from the list\n",
    "\n",
    "roll_number = [47, 64, 69, 37, 76, 83, 95, 97]\n",
    "sample_dict = {'Jhon':47, 'Emma':69, 'Kelly':76, 'Jason':97}\n",
    "\n",
    "\n",
    "dict_values_set = set(sample_dict.values())\n",
    "\n",
    "\n",
    "for num in roll_number[:]:\n",
    "    if num not in dict_values_set:\n",
    "        roll_number.remove(num)\n",
    "\n",
    "print(\"After removing unwanted elements from list\", roll_number)\n"
   ]
  },
  {
   "cell_type": "code",
   "execution_count": 15,
   "metadata": {},
   "outputs": [
    {
     "name": "stdout",
     "output_type": "stream",
     "text": [
      "unique items [65, 99, 41, 45, 87, 94]\n",
      "tuple (65, 99, 41, 45, 87, 94)\n",
      "min: 41\n",
      "max: 99\n"
     ]
    }
   ],
   "source": [
    "# Remove duplicates from a list and create a tuple and find the minimum and maximum number\n",
    "\n",
    "sample_list = [87, 45, 41, 65, 94, 41, 99, 94]\n",
    "\n",
    "\n",
    "unique_items = list(set(sample_list))\n",
    "\n",
    "\n",
    "sample_tuple = tuple(unique_items)\n",
    "\n",
    "\n",
    "min_number = min(sample_tuple)\n",
    "max_number = max(sample_tuple)\n",
    "\n",
    "print(\"unique items\", unique_items)\n",
    "print(\"tuple\", sample_tuple)\n",
    "print(\"min:\", min_number)\n",
    "print(\"max:\", max_number)\n"
   ]
  }
 ],
 "metadata": {
  "kernelspec": {
   "display_name": "Python 3",
   "language": "python",
   "name": "python3"
  },
  "language_info": {
   "codemirror_mode": {
    "name": "ipython",
    "version": 3
   },
   "file_extension": ".py",
   "mimetype": "text/x-python",
   "name": "python",
   "nbconvert_exporter": "python",
   "pygments_lexer": "ipython3",
   "version": "3.10.2"
  }
 },
 "nbformat": 4,
 "nbformat_minor": 2
}
